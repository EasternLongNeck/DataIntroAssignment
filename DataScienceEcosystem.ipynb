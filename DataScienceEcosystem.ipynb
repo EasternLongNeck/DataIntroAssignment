{
 "cells": [
  {
   "cell_type": "markdown",
   "id": "c5f817e2-19a4-4100-bae2-cb0253fb2e13",
   "metadata": {
    "tags": []
   },
   "source": [
    "# Data Science Tools and Ecosystem"
   ]
  },
  {
   "cell_type": "markdown",
   "id": "b9572407-203e-4223-8d9e-e36ac3cbaf95",
   "metadata": {},
   "source": [
    "In this notebook, Data Science Tools and Ecosystem are summarized."
   ]
  },
  {
   "cell_type": "markdown",
   "id": "0f081079-5c47-40f4-8844-7cd66f851cc5",
   "metadata": {},
   "source": [
    "## Author: \n",
    "Isaac Hudson"
   ]
  },
  {
   "cell_type": "markdown",
   "id": "f963691c-1c8c-42bd-8d07-c509277da174",
   "metadata": {
    "tags": []
   },
   "source": [
    "**Objectives**\n",
    "\n",
    "- List popular data science languages\n",
    "- list commonly used data science libraries\n",
    "- list common data science tools\n",
    "- show examples of evaluating arithmetic"
   ]
  },
  {
   "cell_type": "markdown",
   "id": "9cf2079f-5a8e-43cd-a002-18c427b38291",
   "metadata": {},
   "source": [
    "Some of the popular languages that Data Scientists use are:\n",
    "\n",
    "    1. Python\n",
    "    2. R \n",
    "    3. SQL"
   ]
  },
  {
   "cell_type": "markdown",
   "id": "2b1e92c0-ca48-457e-b2d6-04126014eac1",
   "metadata": {},
   "source": [
    "Some of the commonly used libraries used by Data Scientists include:\n",
    "\n",
    "1. Numpy\n",
    "2. Matplotlib\n",
    "3. ggplot2\n",
    "4. Spark\n",
    "5. Vegas\n"
   ]
  },
  {
   "cell_type": "markdown",
   "id": "5dc4f941-ad96-471b-ae5b-7576293aa741",
   "metadata": {
    "tags": []
   },
   "source": [
    "|Data Science Tools|\n",
    "|---------------|\n",
    "|MySQL|\n",
    "|Apache Airflow|\n",
    "|Pixie Dust|"
   ]
  },
  {
   "cell_type": "markdown",
   "id": "e4fd0c84-114f-49a0-8557-376098967287",
   "metadata": {
    "tags": []
   },
   "source": [
    "### Below are a few examples of evaluating arithmetic expressions in Python"
   ]
  },
  {
   "cell_type": "code",
   "execution_count": 7,
   "id": "d3dfdb94-e26a-4856-bc10-f351d37cd14d",
   "metadata": {
    "tags": []
   },
   "outputs": [
    {
     "data": {
      "text/plain": [
       "17"
      ]
     },
     "execution_count": 7,
     "metadata": {},
     "output_type": "execute_result"
    }
   ],
   "source": [
    "# This a simple arithmetic expression to mutiply then add integers\n",
    "\n",
    "(3*4)+5"
   ]
  },
  {
   "cell_type": "code",
   "execution_count": 14,
   "id": "f0151f1a-e8c7-4c74-aad2-1e4e4ed23525",
   "metadata": {
    "tags": []
   },
   "outputs": [
    {
     "name": "stdout",
     "output_type": "stream",
     "text": [
      "3.3333333333333335 hours\n"
     ]
    }
   ],
   "source": [
    "# This will convert 200 minutes to hours by dividing by 60\n",
    "\n",
    "timeunit = ' hours'\n",
    "\n",
    "conversion = 200/60\n",
    "\n",
    "print(str(conversion) + timeunit)"
   ]
  },
  {
   "cell_type": "code",
   "execution_count": null,
   "id": "93f7853b-5a0c-4fbf-8f75-132eec4df02f",
   "metadata": {},
   "outputs": [],
   "source": []
  }
 ],
 "metadata": {
  "kernelspec": {
   "display_name": "Python",
   "language": "python",
   "name": "conda-env-python-py"
  },
  "language_info": {
   "codemirror_mode": {
    "name": "ipython",
    "version": 3
   },
   "file_extension": ".py",
   "mimetype": "text/x-python",
   "name": "python",
   "nbconvert_exporter": "python",
   "pygments_lexer": "ipython3",
   "version": "3.7.12"
  }
 },
 "nbformat": 4,
 "nbformat_minor": 5
}
